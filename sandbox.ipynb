{
 "cells": [
  {
   "cell_type": "code",
   "execution_count": 2,
   "id": "8e78c6e2",
   "metadata": {},
   "outputs": [
    {
     "name": "stdout",
     "output_type": "stream",
     "text": [
      "Baixando localidades urbanas do OSM...\n"
     ]
    },
    {
     "ename": "AttributeError",
     "evalue": "module 'osmnx' has no attribute 'geometries_from_place'",
     "output_type": "error",
     "traceback": [
      "\u001b[31m---------------------------------------------------------------------------\u001b[39m",
      "\u001b[31mAttributeError\u001b[39m                            Traceback (most recent call last)",
      "\u001b[36mCell\u001b[39m\u001b[36m \u001b[39m\u001b[32mIn[2]\u001b[39m\u001b[32m, line 5\u001b[39m\n\u001b[32m      2\u001b[39m \u001b[38;5;28;01mfrom\u001b[39;00m\u001b[38;5;250m \u001b[39m\u001b[34;01mapp\u001b[39;00m\u001b[34;01m.\u001b[39;00m\u001b[34;01mfeatures\u001b[39;00m\u001b[34;01m.\u001b[39;00m\u001b[34;01murban_proximity\u001b[39;00m\u001b[38;5;250m \u001b[39m\u001b[38;5;28;01mimport\u001b[39;00m add_urban_proximity\n\u001b[32m      4\u001b[39m df = pd.read_csv(\u001b[33m\"\u001b[39m\u001b[33mdata/aurita_location_fixed.csv\u001b[39m\u001b[33m\"\u001b[39m)\n\u001b[32m----> \u001b[39m\u001b[32m5\u001b[39m df = \u001b[43madd_urban_proximity\u001b[49m\u001b[43m(\u001b[49m\u001b[43mdf\u001b[49m\u001b[43m)\u001b[49m\n\u001b[32m      7\u001b[39m df\n\u001b[32m      8\u001b[39m \u001b[38;5;66;03m# agora tem coluna dist_nearest_city_km\u001b[39;00m\n",
      "\u001b[36mFile \u001b[39m\u001b[32m~/saguis-dinov3/src/app/features/urban_proximity.py:37\u001b[39m, in \u001b[36madd_urban_proximity\u001b[39m\u001b[34m(df)\u001b[39m\n\u001b[32m     32\u001b[39m \u001b[38;5;28;01mdef\u001b[39;00m\u001b[38;5;250m \u001b[39m\u001b[34madd_urban_proximity\u001b[39m(df: pd.DataFrame) -> pd.DataFrame:\n\u001b[32m     33\u001b[39m \u001b[38;5;250m    \u001b[39m\u001b[33;03m\"\"\"\u001b[39;00m\n\u001b[32m     34\u001b[39m \u001b[33;03m    Entra: df com colunas latitude, longitude\u001b[39;00m\n\u001b[32m     35\u001b[39m \u001b[33;03m    Sai: df com nova coluna 'dist_nearest_city_km'\u001b[39;00m\n\u001b[32m     36\u001b[39m \u001b[33;03m    \"\"\"\u001b[39;00m\n\u001b[32m---> \u001b[39m\u001b[32m37\u001b[39m     centers = \u001b[43mfetch_urban_centers\u001b[49m\u001b[43m(\u001b[49m\u001b[43m)\u001b[49m\n\u001b[32m     39\u001b[39m     results = []\n\u001b[32m     40\u001b[39m     \u001b[38;5;28;01mfor\u001b[39;00m _, row \u001b[38;5;129;01min\u001b[39;00m df.iterrows():\n",
      "\u001b[36mFile \u001b[39m\u001b[32m~/saguis-dinov3/src/app/features/urban_proximity.py:23\u001b[39m, in \u001b[36mfetch_urban_centers\u001b[39m\u001b[34m()\u001b[39m\n\u001b[32m     21\u001b[39m \u001b[38;5;28mprint\u001b[39m(\u001b[33m\"\u001b[39m\u001b[33mBaixando localidades urbanas do OSM...\u001b[39m\u001b[33m\"\u001b[39m)\n\u001b[32m     22\u001b[39m tags = {\u001b[33m\"\u001b[39m\u001b[33mplace\u001b[39m\u001b[33m\"\u001b[39m: [\u001b[33m\"\u001b[39m\u001b[33mcity\u001b[39m\u001b[33m\"\u001b[39m, \u001b[33m\"\u001b[39m\u001b[33mtown\u001b[39m\u001b[33m\"\u001b[39m, \u001b[33m\"\u001b[39m\u001b[33mvillage\u001b[39m\u001b[33m\"\u001b[39m, \u001b[33m\"\u001b[39m\u001b[33msuburb\u001b[39m\u001b[33m\"\u001b[39m]}\n\u001b[32m---> \u001b[39m\u001b[32m23\u001b[39m gdf = \u001b[43mox\u001b[49m\u001b[43m.\u001b[49m\u001b[43mgeometries_from_place\u001b[49m(\u001b[33m\"\u001b[39m\u001b[33mSudeste, Brazil\u001b[39m\u001b[33m\"\u001b[39m, tags=tags)\n\u001b[32m     25\u001b[39m \u001b[38;5;66;03m# pegar apenas centroides\u001b[39;00m\n\u001b[32m     26\u001b[39m gdf = gdf.to_crs(epsg=\u001b[32m4326\u001b[39m)\n",
      "\u001b[31mAttributeError\u001b[39m: module 'osmnx' has no attribute 'geometries_from_place'"
     ]
    }
   ],
   "source": [
    "import pandas as pd\n",
    "from app.features.urban_proximity import add_urban_proximity\n",
    "\n",
    "df = pd.read_csv(\"data/aurita_location_fixed.csv\")\n",
    "df = add_urban_proximity(df)\n",
    "\n",
    "df\n",
    "# agora tem coluna dist_nearest_city_km"
   ]
  },
  {
   "cell_type": "code",
   "execution_count": null,
   "id": "234bd61b",
   "metadata": {},
   "outputs": [],
   "source": []
  }
 ],
 "metadata": {
  "kernelspec": {
   "display_name": "saguis-dinov3-Xs5mxBYf-py3.12",
   "language": "python",
   "name": "python3"
  },
  "language_info": {
   "codemirror_mode": {
    "name": "ipython",
    "version": 3
   },
   "file_extension": ".py",
   "mimetype": "text/x-python",
   "name": "python",
   "nbconvert_exporter": "python",
   "pygments_lexer": "ipython3",
   "version": "3.12.11"
  }
 },
 "nbformat": 4,
 "nbformat_minor": 5
}
